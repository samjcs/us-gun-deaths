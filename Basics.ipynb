{
 "cells": [
  {
   "cell_type": "code",
   "execution_count": 1,
   "metadata": {
    "collapsed": false
   },
   "outputs": [
    {
     "name": "stdout",
     "output_type": "stream",
     "text": [
      "[['', 'year', 'month', 'intent', 'police', 'sex', 'age', 'race', 'hispanic', 'place', 'education'], ['1', '2012', '01', 'Suicide', '0', 'M', '34', 'Asian/Pacific Islander', '100', 'Home', '4'], ['2', '2012', '01', 'Suicide', '0', 'F', '21', 'White', '100', 'Street', '3'], ['3', '2012', '01', 'Suicide', '0', 'M', '60', 'White', '100', 'Other specified', '4'], ['4', '2012', '02', 'Suicide', '0', 'M', '64', 'White', '100', 'Home', '4']]\n"
     ]
    }
   ],
   "source": [
    "import csv\n",
    "import datetime\n",
    "\n",
    "file = open('guns.csv')\n",
    "data = list(csv.reader(file))\n",
    "\n",
    "print(data[:5])\n"
   ]
  },
  {
   "cell_type": "code",
   "execution_count": 2,
   "metadata": {
    "collapsed": false
   },
   "outputs": [
    {
     "name": "stdout",
     "output_type": "stream",
     "text": [
      "[['1', '2012', '01', 'Suicide', '0', 'M', '34', 'Asian/Pacific Islander', '100', 'Home', '4'], ['2', '2012', '01', 'Suicide', '0', 'F', '21', 'White', '100', 'Street', '3'], ['3', '2012', '01', 'Suicide', '0', 'M', '60', 'White', '100', 'Other specified', '4'], ['4', '2012', '02', 'Suicide', '0', 'M', '64', 'White', '100', 'Home', '4'], ['5', '2012', '02', 'Suicide', '0', 'M', '31', 'White', '100', 'Other specified', '2']]\n"
     ]
    }
   ],
   "source": [
    "headers = data[0]\n",
    "data = data[1:len(data)]\n",
    "\n",
    "print(data[:5])"
   ]
  },
  {
   "cell_type": "code",
   "execution_count": 3,
   "metadata": {
    "collapsed": false
   },
   "outputs": [
    {
     "name": "stdout",
     "output_type": "stream",
     "text": [
      "{'2013': 33636, '2012': 33563, '2014': 33599}\n"
     ]
    }
   ],
   "source": [
    "years = [row[1] for row in data]\n",
    "year_counts = {}\n",
    "\n",
    "for year in years:\n",
    "    if year in year_counts is not None:\n",
    "        year_counts[year] += 1\n",
    "    else:\n",
    "        year_counts[year] = 1\n",
    "\n",
    "print(year_counts)\n",
    "        "
   ]
  },
  {
   "cell_type": "code",
   "execution_count": 4,
   "metadata": {
    "collapsed": false
   },
   "outputs": [
    {
     "name": "stdout",
     "output_type": "stream",
     "text": [
      "[datetime.datetime(2012, 1, 1, 0, 0), datetime.datetime(2012, 1, 1, 0, 0), datetime.datetime(2012, 1, 1, 0, 0), datetime.datetime(2012, 2, 1, 0, 0), datetime.datetime(2012, 2, 1, 0, 0)]\n"
     ]
    }
   ],
   "source": [
    "dates = [datetime.datetime(year=int(row[1]), month=int(row[2]), day=1) for row in data]\n",
    "print(dates[:5])\n",
    "    "
   ]
  },
  {
   "cell_type": "code",
   "execution_count": 5,
   "metadata": {
    "collapsed": false
   },
   "outputs": [
    {
     "name": "stdout",
     "output_type": "stream",
     "text": [
      "{datetime.datetime(2012, 10, 1, 0, 0): 2732, datetime.datetime(2014, 2, 1, 0, 0): 2360, datetime.datetime(2013, 1, 1, 0, 0): 2863, datetime.datetime(2012, 12, 1, 0, 0): 2790, datetime.datetime(2012, 5, 1, 0, 0): 2998, datetime.datetime(2013, 3, 1, 0, 0): 2861, datetime.datetime(2014, 3, 1, 0, 0): 2683, datetime.datetime(2014, 7, 1, 0, 0): 2883, datetime.datetime(2013, 10, 1, 0, 0): 2807, datetime.datetime(2012, 4, 1, 0, 0): 2794, datetime.datetime(2012, 6, 1, 0, 0): 2825, datetime.datetime(2013, 5, 1, 0, 0): 2805, datetime.datetime(2012, 3, 1, 0, 0): 2742, datetime.datetime(2014, 12, 1, 0, 0): 2856, datetime.datetime(2013, 6, 1, 0, 0): 2919, datetime.datetime(2013, 11, 1, 0, 0): 2757, datetime.datetime(2013, 8, 1, 0, 0): 2858, datetime.datetime(2014, 1, 1, 0, 0): 2650, datetime.datetime(2014, 8, 1, 0, 0): 2969, datetime.datetime(2012, 1, 1, 0, 0): 2757, datetime.datetime(2012, 8, 1, 0, 0): 2953, datetime.datetime(2012, 7, 1, 0, 0): 3025, datetime.datetime(2012, 11, 1, 0, 0): 2728, datetime.datetime(2013, 9, 1, 0, 0): 2741, datetime.datetime(2014, 9, 1, 0, 0): 2913, datetime.datetime(2014, 10, 1, 0, 0): 2864, datetime.datetime(2013, 2, 1, 0, 0): 2374, datetime.datetime(2012, 9, 1, 0, 0): 2851, datetime.datetime(2014, 4, 1, 0, 0): 2861, datetime.datetime(2014, 6, 1, 0, 0): 2930, datetime.datetime(2013, 4, 1, 0, 0): 2797, datetime.datetime(2012, 2, 1, 0, 0): 2356, datetime.datetime(2014, 5, 1, 0, 0): 2863, datetime.datetime(2014, 11, 1, 0, 0): 2755, datetime.datetime(2013, 12, 1, 0, 0): 2764, datetime.datetime(2013, 7, 1, 0, 0): 3078}\n"
     ]
    }
   ],
   "source": [
    "date_counts = {}\n",
    "\n",
    "for date in dates:\n",
    "    if date in date_counts is not None:\n",
    "        date_counts[date] += 1\n",
    "    else:\n",
    "        date_counts[date] = 0\n",
    "print(date_counts)\n",
    "        "
   ]
  },
  {
   "cell_type": "code",
   "execution_count": 6,
   "metadata": {
    "collapsed": false
   },
   "outputs": [
    {
     "name": "stdout",
     "output_type": "stream",
     "text": [
      "{'Black': 23296, 'Hispanic': 9022, 'White': 66237, 'Asian/Pacific Islander': 1326, 'Native American/Native Alaskan': 917}\n",
      "{'M': 86349, 'F': 14449}\n",
      "{'Max': 'M', 'Min': 'F'}\n",
      "{'Max': 'White', 'Min': 'Native American/Native Alaskan'}\n",
      "{'Max': datetime.datetime(2013, 7, 1, 0, 0), 'Min': datetime.datetime(2012, 2, 1, 0, 0)}\n",
      "3078\n"
     ]
    }
   ],
   "source": [
    "sex_counts = {}\n",
    "race_counts = {}\n",
    "for row in data:\n",
    "    sex = row[5]\n",
    "    race = row[7]\n",
    "    if sex in sex_counts:\n",
    "        sex_counts[sex] += 1\n",
    "    else:\n",
    "        sex_counts[sex] = 1\n",
    "    if race in race_counts:\n",
    "        race_counts[race] += 1\n",
    "    else:\n",
    "        race_counts[race] = 1\n",
    "\n",
    "def get_min_max(data):\n",
    "    max_min = {}\n",
    "    max_min[\"Max\"] = max(data.keys(), key=(lambda k: data[k]))\n",
    "    max_min[\"Min\"] = min(data.keys(), key=(lambda k: data[k]))\n",
    "    return max_min\n",
    "\n",
    "min_max_sex = get_min_max(sex_counts)\n",
    "min_max_race = get_min_max(race_counts)\n",
    "min_max_dates = get_min_max(date_counts)\n",
    "print(race_counts)\n",
    "print(sex_counts)\n",
    "print(min_max_sex)\n",
    "print(min_max_race)\n",
    "print(min_max_dates)\n",
    "print(date_counts[min_max_dates[\"Max\"]])\n",
    "    "
   ]
  },
  {
   "cell_type": "markdown",
   "metadata": {},
   "source": [
    "## What we know so far\n",
    "Based off the data that we have collected we can see that white males have the highest ammount of gundeaths. \n",
    "\n",
    "We can also see that Native American/Native Alaskan have the lowest ammount of gundeaths.\n",
    "\n",
    "What this does not show is the precentage of the total populate for each classified race. We need to pull in the data from the United State Census and map our findings to equal pupulations distrabution. \n",
    "\n",
    "We will look at out findings based of a population of 100,000 for each race. "
   ]
  },
  {
   "cell_type": "code",
   "execution_count": 7,
   "metadata": {
    "collapsed": false
   },
   "outputs": [
    {
     "name": "stdout",
     "output_type": "stream",
     "text": [
      "[['Id', 'Year', 'Id', 'Sex', 'Id', 'Hispanic Origin', 'Id', 'Id2', 'Geography', 'Total', 'Race Alone - White', 'Race Alone - Hispanic', 'Race Alone - Black or African American', 'Race Alone - American Indian and Alaska Native', 'Race Alone - Asian', 'Race Alone - Native Hawaiian and Other Pacific Islander', 'Two or More Races'], ['cen42010', 'April 1, 2010 Census', 'totsex', 'Both Sexes', 'tothisp', 'Total', '0100000US', '', 'United States', '308745538', '197318956', '44618105', '40250635', '3739506', '15159516', '674625', '6984195']]\n"
     ]
    }
   ],
   "source": [
    "file = open('census.csv')\n",
    "census = list(csv.reader(file))\n",
    "print(census)"
   ]
  },
  {
   "cell_type": "code",
   "execution_count": 8,
   "metadata": {
    "collapsed": false
   },
   "outputs": [
    {
     "name": "stdout",
     "output_type": "stream",
     "text": [
      "{'Black': 57.8773477735196, 'Hispanic': 20.220491210910907, 'White': 33.56849303419181, 'Asian/Pacific Islander': 8.746980714890115e-06, 'Native American/Native Alaskan': 24.521955573811088}\n"
     ]
    }
   ],
   "source": [
    "census_total = census[0][9]\n",
    "census_data = census[1:len(census)][0]\n",
    "\n",
    "\n",
    "mapping = {\n",
    "    \"Asian/Pacific Islander\": census_data[14] + census_data[15],\n",
    "    \"Black\": census_data[12],\n",
    "    \"Native American/Native Alaskan\": census_data[13],\n",
    "    \"Hispanic\": census_data[11],\n",
    "    \"White\": census_data[10]\n",
    "}\n",
    "\n",
    "race_per_hundredk = {}\n",
    "\n",
    "for race in race_counts:\n",
    "    race_per_hundredk[race] = (int(race_counts[race]) / int(mapping[race])) * 100000\n",
    "\n",
    "print(race_per_hundredk)\n",
    "\n",
    "\n",
    "    \n",
    "\n",
    "\n"
   ]
  },
  {
   "cell_type": "code",
   "execution_count": 12,
   "metadata": {
    "collapsed": false
   },
   "outputs": [
    {
     "name": "stdout",
     "output_type": "stream",
     "text": [
      "{'Black': 19510, 'Hispanic': 5634, 'White': 9147, 'Asian/Pacific Islander': 559, 'Native American/Native Alaskan': 326}\n"
     ]
    }
   ],
   "source": [
    "intents = [intent[3] for intent in data]\n",
    "races = [race[7] for race in data]\n",
    "\n",
    "homicide_race_counts = {}\n",
    "\n",
    "for i, race in enumerate(races):\n",
    "    if intents[i] == 'Homicide':\n",
    "        if race in homicide_race_counts:\n",
    "            homicide_race_counts[race] += 1\n",
    "        else:\n",
    "            homicide_race_counts[race] = 1\n",
    "print(homicide_race_counts)"
   ]
  },
  {
   "cell_type": "code",
   "execution_count": 13,
   "metadata": {
    "collapsed": false
   },
   "outputs": [
    {
     "name": "stdout",
     "output_type": "stream",
     "text": [
      "{'Black': 48.471284987180944, 'Hispanic': 12.627161104219914, 'White': 4.6356417981453335, 'Asian/Pacific Islander': 3.687452654316421e-06, 'Native American/Native Alaskan': 8.717729026240365}\n"
     ]
    }
   ],
   "source": [
    "for race in homicide_race_counts:\n",
    "    homicide_race_counts[race] = (int(homicide_race_counts[race]) / int(mapping[race])) * 100000\n",
    "\n",
    "print(homicide_race_counts)"
   ]
  },
  {
   "cell_type": "markdown",
   "metadata": {},
   "source": [
    "## Findings\n",
    "\n",
    "Looking the the Gun Deaths in the United States per 100,00 people for each race we can see the precntage of gun deaths as a result of homicide.\n",
    "\n",
    "|Race | Gun deaths from Homicide |\n",
    "|-----|:-----------------------:|\n",
    "|Black|48.47%                   |\n",
    "|Hispanic|12.63%\n",
    "|Native ASmerican/Native Alaskan | 8.72%\n",
    "|White | 4.64%\n",
    "|Asian/Pacific Islander |3.69%\n"
   ]
  },
  {
   "cell_type": "code",
   "execution_count": null,
   "metadata": {
    "collapsed": true
   },
   "outputs": [],
   "source": []
  }
 ],
 "metadata": {
  "kernelspec": {
   "display_name": "Python 3",
   "language": "python",
   "name": "python3"
  },
  "language_info": {
   "codemirror_mode": {
    "name": "ipython",
    "version": 3
   },
   "file_extension": ".py",
   "mimetype": "text/x-python",
   "name": "python",
   "nbconvert_exporter": "python",
   "pygments_lexer": "ipython3",
   "version": "3.4.3"
  }
 },
 "nbformat": 4,
 "nbformat_minor": 0
}
